{
 "cells": [
  {
   "cell_type": "markdown",
   "metadata": {},
   "source": [
    "Реализованы 2 функции:\n",
    "* generate_equiprobable_sample - равновероятный сэмпл\n",
    "* generate_wighted_sample - взвешенный сэмпл\n",
    "\n",
    "В них передается:\n",
    "- n - из него потом просто создается xrange\n",
    "- m - размер выборки\n",
    "- get_weight (только в generate_wighted_sample) - функция определения веса для элемента"
   ]
  },
  {
   "cell_type": "code",
   "execution_count": null,
   "metadata": {
    "collapsed": false
   },
   "outputs": [],
   "source": [
    "import random\n",
    "import heapq\n",
    "\n",
    "def generate_equiprobable_sample(n, m):\n",
    "    sample = []\n",
    "    for i in xrange(1, n + 1):\n",
    "        if len(sample) < m:\n",
    "            sample.append(i)\n",
    "        else:\n",
    "            if (random.random() < (float(m) / (i + 1))):\n",
    "                to_replace = random.randrange(m)\n",
    "                sample[to_replace] = i\n",
    "    return sample\n",
    "        \n",
    "def generate_wighted_sample(n, m, get_weight):\n",
    "    sample = []\n",
    "    for i in xrange(1, n + 1):\n",
    "        chance = pow(random.random(), 1.0 / get_weight(i))\n",
    "        #print i, chance\n",
    "        if len(sample) < m:\n",
    "            heapq.heappush(sample, (chance, i))\n",
    "        else :\n",
    "            if (chance > sample[0][0]):\n",
    "                heapq.heappush(sample, (chance, i))\n",
    "                heapq.heappop(sample)\n",
    "                \n",
    "    return [el[1] for el in sample]"
   ]
  },
  {
   "cell_type": "markdown",
   "metadata": {},
   "source": [
    "На основе выше описанных функций были созданы генераторы сэмплов:"
   ]
  },
  {
   "cell_type": "code",
   "execution_count": null,
   "metadata": {
    "collapsed": true
   },
   "outputs": [],
   "source": [
    "def sample_equiprobable_generator(n, m, repeats):\n",
    "    for _ in xrange(repeats):\n",
    "        yield generate_equiprobable_sample(n, m)\n",
    "        \n",
    "def sample_wiegthed_linear_generator(n, m, repeats):\n",
    "    def get_weight(i):\n",
    "        return i\n",
    "    for _ in xrange(repeats):\n",
    "        yield generate_wighted_sample(n, m, get_weight)\n",
    "        \n",
    "\n",
    "def sample_wiegthed_square_generator(n, m, repeats):\n",
    "    def get_weight(i):\n",
    "        return i * i\n",
    "    for _ in xrange(repeats):\n",
    "        yield generate_wighted_sample(n, m, get_weight)   \n",
    "        \n",
    "\n",
    "def sample_wiegthed_equiprobable_generator(n, m, repeats):\n",
    "    def get_weight(i):\n",
    "        return 1\n",
    "    for _ in xrange(repeats):\n",
    "        yield generate_wighted_sample(n, m, get_weight)   \n",
    "        \n",
    "def count_frequensy(n, sample_generator):\n",
    "    frequency = []\n",
    "    for sample in sample_generator:\n",
    "        frequency.extend(sample)\n",
    "    return frequency"
   ]
  },
  {
   "cell_type": "code",
   "execution_count": null,
   "metadata": {
    "collapsed": false
   },
   "outputs": [],
   "source": [
    "%matplotlib inline\n",
    "\n",
    "import matplotlib\n",
    "import matplotlib.pyplot as plt\n",
    "\n",
    "def drawhistogram(title, result):\n",
    "    fig = plt.figure(figsize=(16 ,5))\n",
    "    \n",
    "    plt.title(title)\n",
    "    plt.hist(result, bins=100, alpha=0.75)\n",
    "    plt.xlabel(\"Value\")\n",
    "    plt.ylabel(\"Frequency\")\n",
    "\n",
    "    plt.grid(True)\n",
    "    \n",
    "    plt.show()"
   ]
  },
  {
   "cell_type": "markdown",
   "metadata": {},
   "source": [
    "### Гистограммы\n",
    "\n",
    "Для проверки результатов использованы следующие значения:\n",
    "* n = 1000 - размер для генерации потока\n",
    "* m = 100 - размер сэмпла\n",
    "* repeats = 1000 - количество сгенерированныъ сэмплов\n",
    "\n",
    "сгенерированные графики:\n",
    "1. Equipropable - равномерное распределение для элеметнов из потока.\n",
    "2. Weighted linear - вес **wi = i**.\n",
    "2. Weighted square - вес **wi = i\\*i**\n",
    "2. Weighted equipropable - вес **wi = 1**"
   ]
  },
  {
   "cell_type": "code",
   "execution_count": null,
   "metadata": {
    "collapsed": false,
    "scrolled": true
   },
   "outputs": [],
   "source": [
    "import time \n",
    "\n",
    "n = 1000\n",
    "m = 100\n",
    "repeats = 1000\n",
    "\n",
    "start_time = time.time()\n",
    "samples_equiprobable = count_frequensy(n, sample_equiprobable_generator(n, m, repeats))\n",
    "samples_equiprobable_time = time.time() - start_time\n",
    "\n",
    "samples_wiegthed_linear = count_frequensy(n, sample_wiegthed_linear_generator(n, m, repeats))\n",
    "samples_wiegthed_square = count_frequensy(n, sample_wiegthed_square_generator(n, m, repeats))\n",
    "\n",
    "start_time = time.time()\n",
    "samples_wiegthed_equiprobable = count_frequensy(n, sample_wiegthed_equiprobable_generator(n, m, repeats))\n",
    "samples_wiegthed_equiprobable_time =  time.time() - start_time\n",
    "\n",
    "drawhistogram('1. Equipropable', samples_equiprobable)\n",
    "drawhistogram('2. Weighted linear', samples_wiegthed_linear)\n",
    "drawhistogram('3. Weighted square', samples_wiegthed_square)\n",
    "drawhistogram('4. Weigthed equipropable', samples_wiegthed_equiprobable)"
   ]
  },
  {
   "cell_type": "code",
   "execution_count": null,
   "metadata": {
    "collapsed": false
   },
   "outputs": [],
   "source": [
    "print 'Equipropable time: ', samples_equiprobable_time\n",
    "print 'Weigthed equipropable time: ', samples_wiegthed_equiprobable_time"
   ]
  },
  {
   "cell_type": "markdown",
   "metadata": {},
   "source": [
    "### Выводы\n",
    "\n",
    "При установке весов для элементов потока - мы получаем соответствующую зависимость частоты появления элемента в сэмпле от номера элемента. Это отлично видно на полученных графиках.  \n",
    "Можно отметить, что первый алгоритм работает так же хорошо, как и второй с весом wi = 1. Но первый работает значительно быстрее:\n",
    "- Equipropable time:  0.966331005096\n",
    "- Weigthed equipropable time:  1.39327406883"
   ]
  }
 ],
 "metadata": {
  "kernelspec": {
   "display_name": "Python 2",
   "language": "python",
   "name": "python2"
  },
  "language_info": {
   "codemirror_mode": {
    "name": "ipython",
    "version": 2
   },
   "file_extension": ".py",
   "mimetype": "text/x-python",
   "name": "python",
   "nbconvert_exporter": "python",
   "pygments_lexer": "ipython2",
   "version": "2.7.12"
  }
 },
 "nbformat": 4,
 "nbformat_minor": 2
}
